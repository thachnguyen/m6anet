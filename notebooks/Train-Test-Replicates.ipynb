{
 "cells": [
  {
   "cell_type": "code",
   "execution_count": 1,
   "id": "08bc7e8c",
   "metadata": {},
   "outputs": [],
   "source": [
    "import pandas as pd\n",
    "import numpy as np\n",
    "import os\n",
    "from sklearn.model_selection import GroupShuffleSplit"
   ]
  },
  {
   "cell_type": "code",
   "execution_count": 2,
   "id": "33cfa296",
   "metadata": {},
   "outputs": [],
   "source": [
    "hct_dirs = [\"/mnt/dataHDD/chris/m6anet_data_replicates/GIS_Hct116_directRNA_Rep2-Run1/\"]\n",
    "\n",
    "hek293_dirs = [\"/mnt/dataHDD/chris/m6anet_data_replicates/GohGIS_Hek293T_directRNA_Rep2/\"]\n",
    "\n",
    "hct_replicates = [os.path.join(hct_dir, \"data.readcount.labelled\") for hct_dir in hct_dirs]\n",
    "\n",
    "hek293_replicates = [os.path.join(hek293_dir, \"data.readcount.labelled\") for hek293_dir in hek293_dirs]\n"
   ]
  },
  {
   "cell_type": "code",
   "execution_count": 3,
   "id": "9a5eb574",
   "metadata": {},
   "outputs": [
    {
     "name": "stdout",
     "output_type": "stream",
     "text": [
      "Total HCT116 positions after filtering: 121838\n",
      "Total HEK293T positions after filtering: 90810\n",
      "There are 3852 unique genes in HCT cell lines\n",
      "There are 3149 unique genes in HEK293T cell lines\n",
      "Shared genes: 2515\n"
     ]
    }
   ],
   "source": [
    "hct_df_filtered = None\n",
    "join_keys = [\"chr\", \"gene_id\", \"genomic_position\", \"transcript_id\", \"transcript_position\", \"modification_status\"]\n",
    "\n",
    "for rep in hct_replicates:\n",
    "    rep_df = pd.read_csv(rep)\n",
    "    rep_df = rep_df[rep_df[\"n_reads\"] >= 20].reset_index(drop=True)\n",
    "    rep_df = rep_df.rename(columns={'n_reads': \"n_reads_{}\".format(rep.split(\"/\")[-2])})\\\n",
    "        .set_index(join_keys)\n",
    "    \n",
    "    if hct_df_filtered is None:\n",
    "        hct_df_filtered = rep_df\n",
    "    else:\n",
    "        hct_df_filtered = hct_df_filtered.merge(rep_df, on=join_keys)\n",
    "\n",
    "hct_df_filtered = hct_df_filtered.reset_index()\n",
    "\n",
    "        \n",
    "hek293_df_filtered = None\n",
    "for rep in hek293_replicates:\n",
    "    rep_df = pd.read_csv(rep)\n",
    "    rep_df = rep_df[rep_df[\"n_reads\"] >= 20].reset_index(drop=True)\n",
    "    rep_df = rep_df.rename(columns={'n_reads': \"n_reads_{}\".format(rep.split(\"/\")[-2])})\\\n",
    "        .set_index([\"gene_id\", \"genomic_position\", \"transcript_id\", \"transcript_position\"])\n",
    "    if hek293_df_filtered is None:\n",
    "        hek293_df_filtered = rep_df\n",
    "    else:\n",
    "        hek293_df_filtered = hek293_df_filtered.merge(rep_df, on=join_keys)\n",
    "        \n",
    "hek293_df_filtered = hek293_df_filtered.reset_index()        \n",
    "\n",
    "print(\"Total HCT116 positions after filtering: {}\".format(hct_df_filtered.shape[0]))\n",
    "print(\"Total HEK293T positions after filtering: {}\".format(hek293_df_filtered.shape[0]))\n",
    "\n",
    "hct_genes = hct_df_filtered[\"gene_id\"].unique()\n",
    "hek293_genes = hek293_df_filtered[\"gene_id\"].unique()\n",
    "shared_genes = np.intersect1d(hek293_genes, hct_genes)\n",
    "print(\"There are {} unique genes in HCT cell lines\".format(hct_genes.shape[0]))\n",
    "print(\"There are {} unique genes in HEK293T cell lines\".format(hek293_genes.shape[0]))\n",
    "print(\"Shared genes: {}\".format(shared_genes.shape[0]))"
   ]
  },
  {
   "cell_type": "markdown",
   "id": "0e01b2dd",
   "metadata": {},
   "source": [
    "We shall randomly sample 500 of these shared genes to make a test set and allocate the rest as training set for each cell line"
   ]
  },
  {
   "cell_type": "code",
   "execution_count": 4,
   "id": "11b255ef",
   "metadata": {},
   "outputs": [
    {
     "name": "stdout",
     "output_type": "stream",
     "text": [
      "Train information: \n",
      "HCT116: 99542 unmodified and 4753 modified positions\n",
      "HEK293T: 69399 unmodified and 5621 modified positions\n",
      "==============================\n",
      "Test information: \n",
      "HCT116: 16821 unmodified and 722 modified positions\n",
      "HEK293T: 14818 unmodified and 972 modified positions\n",
      "==============================\n",
      "======================================================\n",
      "Train test split for HCT116 cell lines data:\n",
      "There are 83242 train sites with 79445 unmodified sites, 3797 modified sites\n",
      "There are 21053 val sites with 20097 unmodified sites, 956 modified sites\n",
      "There are 17543 test sites with 16821 unmodified sites, 722 modified sites\n",
      "======================================================\n",
      "======================================================\n",
      "Train test split for HEK293T cell lines data:\n",
      "There are 60322 train sites with 55853 unmodified sites, 4469 modified sites\n",
      "There are 14698 val sites with 13546 unmodified sites, 1152 modified sites\n",
      "There are 15790 test sites with 14818 unmodified sites, 972 modified sites\n",
      "======================================================\n"
     ]
    }
   ],
   "source": [
    "np.random.seed(0)\n",
    "test_genes = np.random.choice(shared_genes, 500, replace=False)\n",
    "print(\"Train information: \")\n",
    "hct116_train_mod_counts = np.unique(hct_df_filtered[~hct_df_filtered[\"gene_id\"].isin(test_genes)][\"modification_status\"], \n",
    "                                    return_counts=True)[1]\n",
    "hek293t_train_mod_counts = np.unique(hek293_df_filtered[~hek293_df_filtered[\"gene_id\"].isin(test_genes)][\"modification_status\"],\n",
    "                                     return_counts=True)[1]\n",
    "print(\"HCT116: {} unmodified and {} modified positions\".format(hct116_train_mod_counts[0], hct116_train_mod_counts[1]))\n",
    "print(\"HEK293T: {} unmodified and {} modified positions\".format(hek293t_train_mod_counts[0], hek293t_train_mod_counts[1]))\n",
    "print(\"==============================\")\n",
    "print(\"Test information: \")\n",
    "hct116_test_mod_counts = np.unique(hct_df_filtered[hct_df_filtered[\"gene_id\"].isin(test_genes)][\"modification_status\"], \n",
    "                                    return_counts=True)[1]\n",
    "hek293t_test_mod_counts = np.unique(hek293_df_filtered[hek293_df_filtered[\"gene_id\"].isin(test_genes)][\"modification_status\"],\n",
    "                                     return_counts=True)[1]\n",
    "print(\"HCT116: {} unmodified and {} modified positions\".format(hct116_test_mod_counts[0], hct116_test_mod_counts[1]))\n",
    "print(\"HEK293T: {} unmodified and {} modified positions\".format(hek293t_test_mod_counts[0], hek293t_test_mod_counts[1]))\n",
    "print(\"==============================\")\n",
    "\n",
    "hct_train_val = hct_df_filtered[~hct_df_filtered[\"gene_id\"].isin(test_genes)]\n",
    "train_val_sites = hct_df_filtered[~hct_df_filtered[\"gene_id\"].isin(test_genes)].index\n",
    "train_index, val_index = next(GroupShuffleSplit(n_splits=5).split(train_val_sites, hct_train_val[\"modification_status\"],\n",
    "                                                                  groups=hct_train_val[\"gene_id\"]))\n",
    "\n",
    "train_sites, val_sites = train_val_sites[train_index], train_val_sites[val_index]\n",
    "test_sites = hct_df_filtered[hct_df_filtered[\"gene_id\"].isin(test_genes)].index\n",
    "\n",
    "hct_df_filtered[\"set_type\"] = \"NA\"\n",
    "hct_df_filtered.loc[train_sites, \"set_type\"] = np.repeat(\"Train\", len(train_sites))\n",
    "hct_df_filtered.loc[val_sites, \"set_type\"] = np.repeat(\"Val\", len(val_sites))\n",
    "hct_df_filtered.loc[test_sites, \"set_type\"] = np.repeat(\"Test\", len(test_sites))\n",
    "\n",
    "_, modified_counts_train = np.unique(hct_df_filtered.iloc[train_sites][\"modification_status\"], return_counts=True)\n",
    "_, modified_counts_val = np.unique(hct_df_filtered.iloc[val_sites][\"modification_status\"], return_counts=True)\n",
    "_, modified_counts_test = np.unique(hct_df_filtered.iloc[test_sites][\"modification_status\"], return_counts=True)\n",
    "\n",
    "print(\"======================================================\")\n",
    "\n",
    "print(\"Train test split for HCT116 cell lines data:\")\n",
    "print(\"There are {} train sites with {} unmodified sites, {} modified sites\".format(len(train_sites), \n",
    "                                                                                    modified_counts_train[0], \n",
    "                                                                                    modified_counts_train[1]))\n",
    "print(\"There are {} val sites with {} unmodified sites, {} modified sites\".format(len(val_sites), \n",
    "                                                                                    modified_counts_val[0], \n",
    "                                                                                    modified_counts_val[1]))\n",
    "print(\"There are {} test sites with {} unmodified sites, {} modified sites\".format(len(test_sites), \n",
    "                                                                                    modified_counts_test[0], \n",
    "                                                                                    modified_counts_test[1]))\n",
    "print(\"======================================================\")\n",
    "\n",
    "hek293_train_val = hek293_df_filtered[~hek293_df_filtered[\"gene_id\"].isin(test_genes)]\n",
    "train_val_sites = hek293_df_filtered[~hek293_df_filtered[\"gene_id\"].isin(test_genes)].index\n",
    "train_index, val_index = next(GroupShuffleSplit(n_splits=5).split(train_val_sites, \n",
    "                                                                  hek293_train_val[\"modification_status\"],\n",
    "                                                                  groups=hek293_train_val[\"gene_id\"]))\n",
    "\n",
    "train_sites, val_sites = train_val_sites[train_index], train_val_sites[val_index] \n",
    "test_sites = hek293_df_filtered[hek293_df_filtered[\"gene_id\"].isin(test_genes)].index\n",
    "\n",
    "hek293_df_filtered[\"set_type\"] = \"NA\"\n",
    "hek293_df_filtered.loc[train_sites, \"set_type\"] = np.repeat(\"Train\", len(train_sites))\n",
    "hek293_df_filtered.loc[val_sites, \"set_type\"] = np.repeat(\"Val\", len(val_sites))\n",
    "hek293_df_filtered.loc[test_sites, \"set_type\"] = np.repeat(\"Test\", len(test_sites))\n",
    "\n",
    "_, modified_counts_train = np.unique(hek293_df_filtered.iloc[train_sites][\"modification_status\"], return_counts=True)\n",
    "_, modified_counts_val = np.unique(hek293_df_filtered.iloc[val_sites][\"modification_status\"], return_counts=True)\n",
    "_, modified_counts_test = np.unique(hek293_df_filtered.iloc[test_sites][\"modification_status\"], return_counts=True)\n",
    "\n",
    "print(\"======================================================\")\n",
    "\n",
    "print(\"Train test split for HEK293T cell lines data:\")\n",
    "print(\"There are {} train sites with {} unmodified sites, {} modified sites\".format(len(train_sites), \n",
    "                                                                                    modified_counts_train[0], \n",
    "                                                                                    modified_counts_train[1]))\n",
    "print(\"There are {} val sites with {} unmodified sites, {} modified sites\".format(len(val_sites), \n",
    "                                                                                    modified_counts_val[0], \n",
    "                                                                                    modified_counts_val[1]))\n",
    "print(\"There are {} test sites with {} unmodified sites, {} modified sites\".format(len(test_sites), \n",
    "                                                                                    modified_counts_test[0], \n",
    "                                                                                    modified_counts_test[1]))\n",
    "print(\"======================================================\")\n"
   ]
  },
  {
   "cell_type": "code",
   "execution_count": 5,
   "id": "0dde32cf",
   "metadata": {},
   "outputs": [],
   "source": [
    "from shutil import copyfile\n"
   ]
  },
  {
   "cell_type": "code",
   "execution_count": 6,
   "id": "74100507",
   "metadata": {},
   "outputs": [],
   "source": [
    "save_dir = \"/mnt/dataHDD/chris/m6anet_data_replicates_simple\"\n",
    "\n",
    "if not os.path.exists(save_dir):\n",
    "    os.mkdir(save_dir)\n",
    "\n",
    "for replicate in np.concatenate([hct_dirs, hek293_dirs]):\n",
    "    rep_dir = os.path.join(save_dir, replicate.split(\"/\")[-2])    \n",
    "    if not os.path.exists(rep_dir):\n",
    "        os.mkdir(rep_dir)\n",
    "        \n",
    "#     copyfile(os.path.join(replicate, \"data.json\"), os.path.join(rep_dir, \"data.json\"))\n"
   ]
  },
  {
   "cell_type": "code",
   "execution_count": 7,
   "id": "3f2f7cf4",
   "metadata": {},
   "outputs": [
    {
     "name": "stdout",
     "output_type": "stream",
     "text": [
      "(array(['Test', 'Train', 'Val'], dtype=object), array([17543, 83242, 21053]))\n",
      "======\n"
     ]
    }
   ],
   "source": [
    "hct_df_filtered_rep = hct_df_filtered.set_index(join_keys).copy()\n",
    "for rep in hct_replicates:\n",
    "    rep_df = pd.read_csv(rep)\n",
    "    rep_df = rep_df[rep_df[\"n_reads\"] >= 20].reset_index(drop=True).set_index(join_keys)[[\"n_reads\", \"kmer\"]]\n",
    "    rep_df = rep_df.merge(hct_df_filtered_rep[\"set_type\"], on=join_keys).reset_index()\n",
    "    \n",
    "    save_path = os.path.join(save_dir, rep.split(\"/\")[-2], \"data.readcount.labelled\")\n",
    "    rep_df.to_csv(save_path,index=False)\n",
    "    print(np.unique(rep_df[\"set_type\"], return_counts=True))\n",
    "    print(\"======\")\n"
   ]
  },
  {
   "cell_type": "code",
   "execution_count": 8,
   "id": "d1b2a83f",
   "metadata": {},
   "outputs": [
    {
     "name": "stdout",
     "output_type": "stream",
     "text": [
      "/mnt/dataHDD/chris/m6anet_data_replicates_simple/GohGIS_Hek293T_directRNA_Rep2/data.readcount.labelled\n",
      "(array(['Test', 'Train', 'Val'], dtype=object), array([15790, 60322, 14698]))\n",
      "======\n"
     ]
    }
   ],
   "source": [
    "join_keys = [\"chr\", \"gene_id\", \"genomic_position\", \"transcript_id\", \"transcript_position\", \"modification_status\"]\n",
    "hek293_df_filtered_rep = hek293_df_filtered.set_index(join_keys).copy()\n",
    "for rep in hek293_replicates:\n",
    "    rep_df = pd.read_csv(rep)\n",
    "    rep_df = rep_df[rep_df[\"n_reads\"] >= 20].reset_index(drop=True).set_index(join_keys)[[\"n_reads\", \"kmer\"]]\n",
    "    rep_df = rep_df.merge(hek293_df_filtered_rep[\"set_type\"], on=join_keys).reset_index()\n",
    "    save_path = os.path.join(save_dir, rep.split(\"/\")[-2], \"data.readcount.labelled\")\n",
    "    print(save_path)\n",
    "    rep_df.to_csv(save_path,index=False)\n",
    "    print(np.unique(rep_df[\"set_type\"], return_counts=True))\n",
    "    print(\"======\")\n"
   ]
  },
  {
   "cell_type": "code",
   "execution_count": null,
   "id": "713f19a9",
   "metadata": {},
   "outputs": [],
   "source": []
  }
 ],
 "metadata": {
  "kernelspec": {
   "display_name": "Python 3",
   "language": "python",
   "name": "python3"
  },
  "language_info": {
   "codemirror_mode": {
    "name": "ipython",
    "version": 3
   },
   "file_extension": ".py",
   "mimetype": "text/x-python",
   "name": "python",
   "nbconvert_exporter": "python",
   "pygments_lexer": "ipython3",
   "version": "3.8.8"
  }
 },
 "nbformat": 4,
 "nbformat_minor": 5
}
